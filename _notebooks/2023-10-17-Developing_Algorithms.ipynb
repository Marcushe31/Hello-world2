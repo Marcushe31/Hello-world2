{
 "cells": [
  {
   "cell_type": "markdown",
   "metadata": {},
   "source": [
    "# Popcorn Hack #1"
   ]
  },
  {
   "cell_type": "code",
   "execution_count": null,
   "metadata": {},
   "outputs": [],
   "source": [
    "num1 = float(input(\"Enter the first number: \"))\n",
    "\n",
    "operation = input(\"Enter the operation (addition or subtraction): \")\n",
    "\n",
    "num2 = float(input(\"Enter the second number: \"))\n",
    "\n",
    "if operation == \"addition\":\n",
    "    result = num1 + num2\n",
    "    print(f\"The result of {num1} + {num2} is {result}\")\n",
    "elif operation == \"subtraction\":\n",
    "    result = num1 - num2\n",
    "    print(f\"The result of {num1} - {num2} is {result}\")\n",
    "else:\n",
    "    print(\"Invalid operation. Please enter 'addition' or 'subtraction'.\")\n",
    "\n"
   ]
  },
  {
   "cell_type": "markdown",
   "metadata": {},
   "source": [
    "# Popcorn Hack #2"
   ]
  },
  {
   "cell_type": "code",
   "execution_count": null,
   "metadata": {},
   "outputs": [],
   "source": []
  },
  {
   "cell_type": "markdown",
   "metadata": {},
   "source": [
    "# Homework"
   ]
  },
  {
   "cell_type": "markdown",
   "metadata": {},
   "source": [
    "<li> Create an algorithm using a loop until y ou reach a desired value."
   ]
  },
  {
   "cell_type": "code",
   "execution_count": 2,
   "metadata": {},
   "outputs": [
    {
     "name": "stdout",
     "output_type": "stream",
     "text": [
      "Desired value of 5 reached.\n"
     ]
    }
   ],
   "source": [
    "\n",
    "value = 0\n",
    "\n",
    "while value != 5:\n",
    "    value += 1\n",
    "\n",
    "print(\"Desired value of 5 reached.\")\n"
   ]
  },
  {
   "cell_type": "markdown",
   "metadata": {},
   "source": [
    "<li> write two different algorithms with different processes but gives the same outcome"
   ]
  },
  {
   "cell_type": "code",
   "execution_count": 3,
   "metadata": {},
   "outputs": [
    {
     "name": "stdout",
     "output_type": "stream",
     "text": [
      "Desired value of 5 reached.\n"
     ]
    }
   ],
   "source": [
    "# Input the desired value from the user\n",
    "desired_value = int(input(\"Enter the desired value: \"))\n",
    "\n",
    "# Initialize the value\n",
    "value = 0\n",
    "\n",
    "# Loop until value reaches the user-input desired value\n",
    "while value != desired_value:\n",
    "    value += 1\n",
    "\n",
    "# Print a message when the desired value is reached\n",
    "print(f\"Desired value of {desired_value} reached.\")\n"
   ]
  }
 ],
 "metadata": {
  "kernelspec": {
   "display_name": "Python 3",
   "language": "python",
   "name": "python3"
  },
  "language_info": {
   "codemirror_mode": {
    "name": "ipython",
    "version": 3
   },
   "file_extension": ".py",
   "mimetype": "text/x-python",
   "name": "python",
   "nbconvert_exporter": "python",
   "pygments_lexer": "ipython3",
   "version": "3.11.5"
  },
  "orig_nbformat": 4
 },
 "nbformat": 4,
 "nbformat_minor": 2
}
