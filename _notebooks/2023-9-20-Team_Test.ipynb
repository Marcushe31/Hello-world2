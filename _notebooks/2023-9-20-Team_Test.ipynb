{
 "cells": [
  {
   "cell_type": "markdown",
   "metadata": {},
   "source": [
    "---\n",
    "toc: true\n",
    "comments: true\n",
    "layout: post\n",
    "title: Team Test\n",
    "courses: { compsci: {week: 5} }\n",
    "type: hacks\n",
    "---\n",
    "<h2>Group Names: Marcus H, Hao Y, Kayden L, Ameer H</h3>\n",
    "\n",
    "<h3> What are the benefits of a team? Explain some of the diveristies that your team has to offer. </h2>\n",
    "\n",
    "<h4> Some benefits of being in a team include that there are more perspectives to add on a topic/problem, so that you can create a solution that is true to most point of views. Not only that but the team members can learn from one another. When people with different skills and knowledge work together, they have the opportunity to acquire new skills and expand their knowledge base. When working in a team you can accomplish more in a quicker amount of time.\n",
    "The distribution of tasks and responsibilities can lead to quicker project completion. </h4>\n",
    "\n",
    "<h3> Describe how you will facilitate communication amongst group members. </h3>\n",
    "\n",
    "<h4> in order to facilitate communication amongst group members, we must establish clear goals and objectives. To add onto this, by assigning a team leader/scrum master will help keep the flow of work smooth, as the team leader will overlook completion of the tasks and participation of each group members. By having regular meetings and check-ins, we can make sure that the work is up to date with completion, and that all members of the group are on the same page.</h4>\n",
    "\n",
    "<h3> How will you hold each person accountable for their portion of the work? Think about dates, review tickets, and peer revies. </h3>\n",
    "\n",
    "<h4> We can hold each person accountable for their portion of the work by having dates where we will hold meetings/check-ins. This gives a partial completion date for the group members at certain times which will make sure that the project and work will be completed efficiently at the correct time. By holding these check-ins, the group and team leader will be able to see who isn't up-to-date on their work, meaning that they will need to catch up. The more check-ins that we will have, the better the quality of work we will have for the final project, as well as it being submitted on time.</h4>\n",
    "\n",
    "\n",
    "\n",
    "\n",
    "\n"
   ]
  },
  {
   "cell_type": "markdown",
   "metadata": {},
   "source": [
    "## #1 Program with Output"
   ]
  },
  {
   "cell_type": "code",
   "execution_count": 4,
   "metadata": {},
   "outputs": [
    {
     "name": "stdout",
     "output_type": "stream",
     "text": [
      "Hello!\n"
     ]
    }
   ],
   "source": [
    "print(\"Hello!\")"
   ]
  },
  {
   "cell_type": "markdown",
   "metadata": {},
   "source": [
    "## #2 Program With Input and Output "
   ]
  },
  {
   "cell_type": "code",
   "execution_count": 5,
   "metadata": {},
   "outputs": [
    {
     "name": "stdout",
     "output_type": "stream",
     "text": [
      "Hello, marcus!\n"
     ]
    }
   ],
   "source": [
    "name = input(\"What's your name? \")\n",
    "print(f\"Hello, {name}!\")"
   ]
  },
  {
   "cell_type": "markdown",
   "metadata": {},
   "source": [
    "The program asks for the input from the User, and then once the user inputs their name the program will output their name behind \"Hello,\" and add an \"!\" after your name. "
   ]
  },
  {
   "cell_type": "markdown",
   "metadata": {},
   "source": [
    "## #3 Program with a List"
   ]
  },
  {
   "cell_type": "code",
   "execution_count": 6,
   "metadata": {},
   "outputs": [
    {
     "name": "stdout",
     "output_type": "stream",
     "text": [
      "['apple', 'banana', 'cherry']\n"
     ]
    }
   ],
   "source": [
    "fruits = [\"apple\", \"banana\", \"cherry\"]\n",
    "print(fruits)"
   ]
  },
  {
   "cell_type": "markdown",
   "metadata": {},
   "source": [
    "The program creates a list of different fruits when run, based on the amount of words (fruits) that are inside the list."
   ]
  },
  {
   "cell_type": "markdown",
   "metadata": {},
   "source": [
    "## #4 Program with a Dictionary"
   ]
  },
  {
   "cell_type": "code",
   "execution_count": 7,
   "metadata": {},
   "outputs": [
    {
     "name": "stdout",
     "output_type": "stream",
     "text": [
      "First Name: John\n",
      "Last Name: Doe\n",
      "Age: 30\n",
      "City: New York\n"
     ]
    }
   ],
   "source": [
    "person_info = {\n",
    "    \"first_name\": \"John\",\n",
    "    \"last_name\": \"Doe\",\n",
    "    \"age\": 30,\n",
    "    \"city\": \"New York\",\n",
    "}\n",
    "\n",
    "print(\"First Name:\", person_info[\"first_name\"])\n",
    "print(\"Last Name:\", person_info[\"last_name\"])\n",
    "print(\"Age:\", person_info[\"age\"])\n",
    "print(\"City:\", person_info[\"city\"])\n"
   ]
  },
  {
   "cell_type": "markdown",
   "metadata": {},
   "source": [
    "This code basically takes information from the \"Dictionary\" bank, and when asked about the person through the input, it will output the person with the certain information that is in the dictionary."
   ]
  },
  {
   "cell_type": "markdown",
   "metadata": {},
   "source": [
    "## #5 Program with Iteration"
   ]
  },
  {
   "cell_type": "code",
   "execution_count": 8,
   "metadata": {},
   "outputs": [
    {
     "name": "stdout",
     "output_type": "stream",
     "text": [
      "0\n",
      "1\n",
      "2\n",
      "3\n",
      "4\n"
     ]
    }
   ],
   "source": [
    "for i in range(5):\n",
    "    print(i)"
   ]
  },
  {
   "cell_type": "markdown",
   "metadata": {},
   "source": [
    "This code achieves the same result as the previous example, but it's even more concise. It uses the range() function to generate numbers from 1 to 5 (inclusive) and prints each number within the loop.The program iterates through the specified range and prints each number in consecutive lines."
   ]
  },
  {
   "cell_type": "markdown",
   "metadata": {},
   "source": [
    "## #6 Program with a Function to perform mathematical and/or a statistical calculations."
   ]
  },
  {
   "cell_type": "code",
   "execution_count": 15,
   "metadata": {},
   "outputs": [
    {
     "name": "stdout",
     "output_type": "stream",
     "text": [
      "The sum of 10.0 and 5.0 is 15.0\n"
     ]
    }
   ],
   "source": [
    "try:\n",
    "    num1 = float(input(\"Enter the first number: \"))  \n",
    "    num2 = float(input(\"Enter the second number: \"))  \n",
    "\n",
    "    result = num1 + num2\n",
    "\n",
    "    print(f\"The sum of {num1} and {num2} is {result}\")\n",
    "except ValueError:\n",
    "    print(\"Invalid input. Please enter valid numbers.\")\n",
    "except Exception as e:\n",
    "    print(\"An unexpected error occurred.\")"
   ]
  },
  {
   "cell_type": "markdown",
   "metadata": {},
   "source": [
    "This program asks for two inputs which should be numbers. The user inputs the two numbers, and then the program will add both of them together. "
   ]
  },
  {
   "cell_type": "markdown",
   "metadata": {},
   "source": [
    "## #7 Program with a Selection/Condition"
   ]
  },
  {
   "cell_type": "code",
   "execution_count": 2,
   "metadata": {},
   "outputs": [
    {
     "name": "stdout",
     "output_type": "stream",
     "text": [
      "Based on a temperature of 52.0°F, it feels Cool outside.\n"
     ]
    }
   ],
   "source": [
    "try:\n",
    "    temperature_fahrenheit = float(input(\"Enter the temperature (in Fahrenheit): \"))\n",
    "\n",
    "    # Determine the weather type based on Fahrenheit temperature\n",
    "    if temperature_fahrenheit < 32:\n",
    "        weather_type = \"Freezing\"\n",
    "    elif temperature_fahrenheit >= 32 and temperature_fahrenheit < 50:\n",
    "        weather_type = \"Cold\"\n",
    "    elif temperature_fahrenheit >= 50 and temperature_fahrenheit < 70:\n",
    "        weather_type = \"Cool\"\n",
    "    elif temperature_fahrenheit >= 70 and temperature_fahrenheit < 90:\n",
    "        weather_type = \"Warm\"\n",
    "    else:\n",
    "        weather_type = \"Hot\"\n",
    "\n",
    "    # Display the suggested weather type\n",
    "    print(f\"Based on a temperature of {temperature_fahrenheit}°F, it feels {weather_type} outside.\")\n",
    "except ValueError:\n",
    "    print(\"Invalid input. Please enter a valid temperature in Fahrenheit.\")\n",
    "except Exception as e:\n",
    "    print(\"An unexpected error occurred.\")\n"
   ]
  },
  {
   "cell_type": "markdown",
   "metadata": {},
   "source": [
    "Program that takes input, and depending on input gives certain output."
   ]
  },
  {
   "cell_type": "markdown",
   "metadata": {},
   "source": [
    "## #8 Finish with a Program with Purpose"
   ]
  },
  {
   "cell_type": "code",
   "execution_count": 3,
   "metadata": {},
   "outputs": [
    {
     "name": "stdout",
     "output_type": "stream",
     "text": [
      "The result is: 15.0\n"
     ]
    }
   ],
   "source": [
    "def calculator(a, b, operation):\n",
    "    if operation == \"+\":\n",
    "        return a + b\n",
    "    elif operation == \"-\":\n",
    "        return a - b\n",
    "    elif operation == \"*\":\n",
    "        return a * b\n",
    "    elif operation == \"/\":\n",
    "        if b == 0:\n",
    "            return \"Division by zero is not allowed\"\n",
    "        return a / b\n",
    "    else:\n",
    "        return \"Invalid operation\"\n",
    "# Example usage\n",
    "a = float(input(\"Enter first number: \"))\n",
    "b = float(input(\"Enter second number: \"))\n",
    "operation = input(\"Enter operation (+, -, *, /): \")\n",
    "result = calculator(a, b, operation)\n",
    "print(f\"The result is: {result}\")"
   ]
  },
  {
   "cell_type": "markdown",
   "metadata": {},
   "source": [
    "This program is a basic calculator that does addition, subtraction, multiplication, and division. The user enters the first and second numbers, and then the operation."
   ]
  },
  {
   "cell_type": "markdown",
   "metadata": {},
   "source": [
    "## <u> Program Design and Development </u>"
   ]
  },
  {
   "cell_type": "markdown",
   "metadata": {},
   "source": [
    "## 1. Create a Visual Illustration of a program, algorithm, or process:"
   ]
  },
  {
   "cell_type": "markdown",
   "metadata": {},
   "source": [
    "![Flowchart](https://www.conceptdraw.com/How-To-Guide/picture/Flowchart-Example2.png)\n"
   ]
  },
  {
   "cell_type": "markdown",
   "metadata": {},
   "source": [
    "## 2. Show documentation of a program with a List and Iteration."
   ]
  },
  {
   "cell_type": "code",
   "execution_count": 1,
   "metadata": {},
   "outputs": [
    {
     "name": "stdout",
     "output_type": "stream",
     "text": [
      "List of numbers: [1, 2, 3, 4, 5, 6, 7, 8, 9, 10]\n",
      "Sum of even numbers: 30\n"
     ]
    }
   ],
   "source": [
    "def sum_even_numbers(numbers):\n",
    "    \"\"\"\n",
    "    Calculates the sum of even numbers in a list.\n",
    "\n",
    "    Parameters:\n",
    "    numbers (list): A list of integers.\n",
    "\n",
    "    Returns:\n",
    "    int: The sum of even numbers in the list.\n",
    "    \"\"\"\n",
    "    even_sum = 0  # Initialize the sum to zero\n",
    "    \n",
    "    for num in numbers:\n",
    "        if num % 2 == 0:  # Check if the number is even\n",
    "            even_sum += num  # Add even number to the sum\n",
    "    \n",
    "    return even_sum\n",
    "\n",
    "# Example list of numbers\n",
    "numbers_list = [1, 2, 3, 4, 5, 6, 7, 8, 9, 10]\n",
    "\n",
    "# Calculate the sum of even numbers in the list\n",
    "result = sum_even_numbers(numbers_list)\n",
    "\n",
    "# Display the result\n",
    "print(\"List of numbers:\", numbers_list)\n",
    "print(\"Sum of even numbers:\", result)"
   ]
  },
  {
   "cell_type": "markdown",
   "metadata": {},
   "source": [
    "## 3. Show comments on a program that does a mathematical and/or statistical calculation."
   ]
  },
  {
   "cell_type": "code",
   "execution_count": null,
   "metadata": {},
   "outputs": [],
   "source": [
    "# Define a list of numbers\n",
    "numbers = [10, 20, 30, 40, 50]\n",
    "\n",
    "# Calculate the sum of numbers\n",
    "sum_of_numbers = sum(numbers)\n",
    "\n",
    "# Calculate the count of numbers\n",
    "count = len(numbers)\n",
    "\n",
    "# Calculate the mean (average)\n",
    "mean = sum_of_numbers / count\n",
    "\n",
    "# Print the results\n",
    "print(\"List of numbers:\", numbers)\n",
    "print(\"Sum of numbers:\", sum_of_numbers)\n",
    "print(\"Count of numbers:\", count)\n",
    "print(\"Mean (Average):\", mean)\n"
   ]
  },
  {
   "cell_type": "markdown",
   "metadata": {},
   "source": [
    "<h3>Define a list of numbers: </h3>\n",
    "This comment introduces the list of numbers and informs the reader that this is where the data is stored.\n",
    "\n",
    "<h3> Calculate the sum of numbers: </h3>\n",
    "This comment explains the purpose of the next step, which is to calculate the sum of all numbers in the list using the sum() function.\n",
    "\n",
    "<h3>Calculate the count of numbers:</h3>\n",
    "Here the comment indicates that the program is calculating the total count of numbers in the list using the len() function.\n",
    "\n",
    "<h3>Calculate the mean (average):</h3>\n",
    "This is comment describes the goal of the program, which is to find the mean (average) of the numbers, and it does so by dividing the sum by the count.\n",
    "\n",
    "<h3>Print the results: </h3>\n",
    "his comment indicates that the program is about to display the results of the calculations.\n",
    "\n",
    "<h3> Print statements: </h3>\n",
    "Each print statement is followed by a comment specifying what it's printing, making it clear to the reader what each output line represents."
   ]
  },
  {
   "cell_type": "markdown",
   "metadata": {},
   "source": [
    "# Identifying and Correcting Errors"
   ]
  },
  {
   "cell_type": "markdown",
   "metadata": {},
   "source": [
    "## 1. Show comments and code logic that reduces errors in code with if    / else statements.\n"
   ]
  },
  {
   "cell_type": "code",
   "execution_count": 4,
   "metadata": {},
   "outputs": [
    {
     "name": "stdout",
     "output_type": "stream",
     "text": [
      "192823 is Odd\n"
     ]
    }
   ],
   "source": [
    "# Function to determine if a number is even or odd\n",
    "def is_even_or_odd(number):\n",
    "    \"\"\"\n",
    "    Determines if a number is even or odd.\n",
    "\n",
    "    Parameters:\n",
    "    number (int): The number to check.\n",
    "\n",
    "    Returns:\n",
    "    str: \"Even\" if the number is even, \"Odd\" if it's odd.\n",
    "    \"\"\"\n",
    "    if number % 2 == 0:\n",
    "        return \"Even\"  # If the remainder is 0, the number is even\n",
    "    else:\n",
    "        return \"Odd\"   # If the remainder is not 0, the number is odd\n",
    "\n",
    "# Input from the user\n",
    "try:\n",
    "    input_number = int(input(\"Enter a number: \"))  # Input a number from the user\n",
    "    result = is_even_or_odd(input_number)\n",
    "    print(f\"{input_number} is {result}\")\n",
    "except ValueError:\n",
    "    print(\"Invalid input. Please enter a valid integer.\")\n",
    "except Exception as e:\n",
    "    print(e)\n"
   ]
  },
  {
   "cell_type": "markdown",
   "metadata": {},
   "source": [
    "## 2. Show comments and code logic that reduces errors in code with try / catch statements."
   ]
  },
  {
   "cell_type": "code",
   "execution_count": 7,
   "metadata": {},
   "outputs": [
    {
     "name": "stdout",
     "output_type": "stream",
     "text": [
      "10.0 divided by 5.0 is 2.0\n"
     ]
    }
   ],
   "source": [
    "\n",
    "def divide_numbers(numerator, denominator):\n",
    "    \"\"\"\n",
    "    Calculates the division of two numbers.\n",
    "\n",
    "    Parameters:\n",
    "    numerator (float or int): The numerator.\n",
    "    denominator (float or int): The denominator.\n",
    "\n",
    "    Returns:\n",
    "    float: The result of the division.\n",
    "    \"\"\"\n",
    "    try:\n",
    "        result = numerator / denominator  \n",
    "        return result\n",
    "    except ZeroDivisionError:\n",
    "        raise ValueError(\"Division by zero is not allowed\")\n",
    "    except Exception as e:\n",
    "        raise ValueError(\"An error occurred during division\")\n",
    "\n",
    "\n",
    "try:\n",
    "    numerator = float(input(\"Enter the numerator: \"))  \n",
    "    denominator = float(input(\"Enter the denominator: \"))  \n",
    "\n",
    "    result = divide_numbers(numerator, denominator)\n",
    "    print(f\"{numerator} divided by {denominator} is {result}\")\n",
    "except ValueError as e:\n",
    "    print(e)\n",
    "except Exception as e:\n",
    "    print(\"An unexpected error occurred.\")\n",
    "\n"
   ]
  },
  {
   "cell_type": "markdown",
   "metadata": {},
   "source": [
    "Above is a function that can be used to calculate the division of two numbers: \n",
    "\n",
    "try:: The try block is used to enclose the code that may potentially raise an exception.\n",
    "\n",
    "result = numerator / denominator: Inside the try block, this line attempts to perform the division of numerator by denominator."
   ]
  }
 ],
 "metadata": {
  "kernelspec": {
   "display_name": "Python 3",
   "language": "python",
   "name": "python3"
  },
  "language_info": {
   "codemirror_mode": {
    "name": "ipython",
    "version": 3
   },
   "file_extension": ".py",
   "mimetype": "text/x-python",
   "name": "python",
   "nbconvert_exporter": "python",
   "pygments_lexer": "ipython3",
   "version": "3.11.5"
  },
  "orig_nbformat": 4
 },
 "nbformat": 4,
 "nbformat_minor": 2
}
