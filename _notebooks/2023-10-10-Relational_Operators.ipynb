{
 "cells": [
  {
   "cell_type": "markdown",
   "metadata": {},
   "source": [
    "# Team Tech Talk: Relational Operators"
   ]
  },
  {
   "cell_type": "markdown",
   "metadata": {},
   "source": [
    "<li> A boolean value is either true or false\n",
    "<li> Typically yes or no questions such as \"do i have a dog?\""
   ]
  },
  {
   "cell_type": "code",
   "execution_count": 1,
   "metadata": {},
   "outputs": [
    {
     "name": "stdout",
     "output_type": "stream",
     "text": [
      "7\n"
     ]
    }
   ],
   "source": [
    "num1 = 5\n",
    "num2 = 7\n",
    "are_not_equal = num1 =num2\n",
    "print(are_not_equal)"
   ]
  },
  {
   "cell_type": "markdown",
   "metadata": {},
   "source": [
    "# Logical Operators"
   ]
  },
  {
   "cell_type": "markdown",
   "metadata": {},
   "source": [
    "<li> NOT condition: flips what is currently stored in the variable without impacting the variable/ condition itself\n",
    "<li> AND condition: checks both conditions to produce one signle Bolean true or false\n",
    "<li> OR conditon: checks to see if either one to see if it is true/false, if so then it will be true/false accordingly.\n"
   ]
  },
  {
   "cell_type": "code",
   "execution_count": 2,
   "metadata": {},
   "outputs": [
    {
     "name": "stdout",
     "output_type": "stream",
     "text": [
      "True\n",
      "False\n"
     ]
    }
   ],
   "source": [
    "score = 10\n",
    "highscore = 20\n",
    "lives = 3\n",
    "result = (score > highscore) or (lives > 1)\n",
    "print(result)\n",
    "\n",
    "score = 115\n",
    "highschore = 200\n",
    "lives = 2\n",
    "result = (score < highscore) or (lives <1)\n",
    "print(result)"
   ]
  },
  {
   "cell_type": "markdown",
   "metadata": {},
   "source": [
    "<li> Boolean values are either true or false"
   ]
  },
  {
   "cell_type": "code",
   "execution_count": 9,
   "metadata": {},
   "outputs": [
    {
     "name": "stdout",
     "output_type": "stream",
     "text": [
      "5\n"
     ]
    }
   ],
   "source": [
    "Name = \"Marcus\"\n",
    "numberofclasses = 5\n",
    "result = (numberofclasses) or (Name)\n",
    "print(result)"
   ]
  },
  {
   "cell_type": "code",
   "execution_count": 15,
   "metadata": {},
   "outputs": [
    {
     "name": "stdout",
     "output_type": "stream",
     "text": [
      "multiple of 3\n"
     ]
    }
   ],
   "source": [
    "number = 9\n",
    "if number % 3 == 0:\n",
    "    print (\"multiple of 3\")\n",
    "else: print (\"not multiple of 3\")"
   ]
  },
  {
   "cell_type": "markdown",
   "metadata": {},
   "source": [
    "# Homework"
   ]
  },
  {
   "cell_type": "markdown",
   "metadata": {},
   "source": [
    "Write two Boolean expressions to check if the average grades of student1, studen2, and student3 is at leat 85. write one experession that is false and one that is true"
   ]
  },
  {
   "cell_type": "code",
   "execution_count": 28,
   "metadata": {},
   "outputs": [
    {
     "name": "stdout",
     "output_type": "stream",
     "text": [
      "Average grade is greater than or equal to 85\n"
     ]
    }
   ],
   "source": [
    "student1 = 90\n",
    "student2 = 88\n",
    "student3 = 82\n",
    "\n",
    "average_grade = (student1 + student2 + student3) / 3\n",
    "\n",
    "if average_grade >= 85:\n",
    "    print(\"Average grade is greater than or equal to 85\")\n",
    "else:\n",
    "    print(\"Average grade is less than 85\")\n"
   ]
  },
  {
   "cell_type": "markdown",
   "metadata": {},
   "source": [
    "hack 2: you can't go outside if the temperature is less than 20 AND the weather is stormy. Write the boolean experssion for the scenario. Screenshot your work and put in google document with link. "
   ]
  },
  {
   "cell_type": "code",
   "execution_count": 30,
   "metadata": {},
   "outputs": [
    {
     "name": "stdout",
     "output_type": "stream",
     "text": [
      "You can't go outside due to stormy weather and low temperature.\n"
     ]
    }
   ],
   "source": [
    "temperature = 15  \n",
    "is_stormy = True  \n",
    "\n",
    "if temperature < 20 and is_stormy:\n",
    "    print(\"You can't go outside due to stormy weather and low temperature.\")\n",
    "else:\n",
    "    print(\"It's safe to go outside.\")\n"
   ]
  }
 ],
 "metadata": {
  "kernelspec": {
   "display_name": "Python 3",
   "language": "python",
   "name": "python3"
  },
  "language_info": {
   "codemirror_mode": {
    "name": "ipython",
    "version": 3
   },
   "file_extension": ".py",
   "mimetype": "text/x-python",
   "name": "python",
   "nbconvert_exporter": "python",
   "pygments_lexer": "ipython3",
   "version": "3.11.5"
  },
  "orig_nbformat": 4
 },
 "nbformat": 4,
 "nbformat_minor": 2
}
