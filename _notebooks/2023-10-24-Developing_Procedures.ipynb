{
 "cells": [
  {
   "cell_type": "markdown",
   "metadata": {},
   "source": [
    "# Developing Procedures"
   ]
  },
  {
   "cell_type": "code",
   "execution_count": 2,
   "metadata": {},
   "outputs": [],
   "source": [
    "def updatequiz(currentgrade, quizgrade):\n",
    "    if quizgrade > currentgrade:\n",
    "        currentrage = quizgrade\n",
    "        return currentgrade\n",
    "    currentgrade = 75\n",
    "    quizgrade = 88\n",
    "    currentgrade = updatedquiz(currentgrade,quizgrade)\n",
    "    print (currentgrade)\n",
    "    "
   ]
  },
  {
   "cell_type": "markdown",
   "metadata": {},
   "source": [
    "Popcorn Hack #1"
   ]
  },
  {
   "cell_type": "markdown",
   "metadata": {},
   "source": [
    "Name: updateweather\n",
    "\n",
    "Parameters: currentweather and weather\n",
    "\n",
    "Algorithm (lines):\n",
    "\n",
    "python\n",
    "Copy code\n",
    "def updateweather(currentweather, weather):\n",
    "    if currentweather > weather:\n",
    "        weather = currentweather\n",
    "        print(\"today is warmer than yesterday\")\n",
    "    else:\n",
    "        print(\"today is colder than yesterday\")\n",
    "    return currentgrade\n",
    "\n",
    "    Return Value: The updateweather function returns the value of a variable called currentgrade, but there is a problem in the code. currentgrade is not defined in the function, so this code will produce an error. It should return currentweather instead of currentgrade if you want to return the current weather.\n",
    "\n",
    "Calling Procedure Line:\n",
    "\n",
    "python\n",
    "Copy code\n",
    "currentweather = 71\n",
    "weather = 66\n",
    "currentgrade = updateweather(currentweather, weather)\n",
    "print(\"the temperature right now is\", currentweather, \"degrees\")\n",
    "It's important to note that there is an issue with the function in that it tries to return currentgrade, which is not defined in the function, and it should return currentweather if you want to return the current weather. Also, the weather variable is being overwritten with currentweather within the function, which might not be the intended behavior."
   ]
  },
  {
   "cell_type": "markdown",
   "metadata": {},
   "source": [
    "# Popcorn Hack 2\n"
   ]
  },
  {
   "cell_type": "code",
   "execution_count": null,
   "metadata": {},
   "outputs": [],
   "source": [
    "class Person:\n",
    "    def __init__(self, name, age):\n",
    "        self.name = name\n",
    "        self.age = age\n",
    "\n",
    "    def introduce(self):\n",
    "        return f\"Hello, I'm {self.name}, and I am {self.age} years old.\"\n",
    "\n",
    "class Car:\n",
    "    def __init__(self, make, model, year):\n",
    "        self.make = make\n",
    "        self.model = model\n",
    "        self.year = year\n",
    "\n",
    "    def description(self):\n",
    "        return f\"This is a {self.year} {self.make} {self.model}.\"\n",
    "\n",
    "def create_objects():\n",
    "    person1 = Person(\"Alice\", 30)\n",
    "    person2 = Person(\"Bob\", 25)\n",
    "    car1 = Car(\"Toyota\", \"Camry\", 2022)\n",
    "    car2 = Car(\"Ford\", \"Mustang\", 2023)\n",
    "    \n",
    "    return person1, person2, car1, car2\n",
    "\n",
    "person1, person2, car1, car2 = create_objects()\n",
    "\n",
    "print(person1.introduce())\n",
    "print(person2.introduce())\n",
    "print(car1.description())\n",
    "print(car2.description())\n"
   ]
  },
  {
   "cell_type": "markdown",
   "metadata": {},
   "source": [
    "# Homework Hacks"
   ]
  },
  {
   "cell_type": "markdown",
   "metadata": {},
   "source": [
    "Hack 1"
   ]
  },
  {
   "cell_type": "code",
   "execution_count": null,
   "metadata": {},
   "outputs": [],
   "source": [
    "def update_value(obj, attribute, new_value):\n",
    "    setattr(obj, attribute, new_value)\n",
    "\n",
    "class Person:\n",
    "    def __init__(self, name, age, height):\n",
    "        self.name = name\n",
    "        self.age = age\n",
    "        self.height = height\n",
    "\n",
    "person1 = Person(\"Alice\", 30, 165)\n",
    "print(f\"Original Height: {person1.height}\")\n",
    "\n",
    "update_value(person1, 'height', 170)\n",
    "print(f\"Updated Height: {person1.height}\")\n"
   ]
  },
  {
   "cell_type": "markdown",
   "metadata": {},
   "source": [
    "Hack 2"
   ]
  },
  {
   "cell_type": "code",
   "execution_count": null,
   "metadata": {},
   "outputs": [],
   "source": [
    "class Person:\n",
    "    def __init__(self, name, age, height):\n",
    "        self.name = name\n",
    "        self.age = age\n",
    "        self.height = height\n",
    "\n",
    "    def introduce(self):\n",
    "        return f\"Hello, I'm {self.name}, {self.age} years old, and I am {self.height} cm tall.\"\n",
    "\n",
    "def create_objects():\n",
    "    person1 = Person(\"Alice\", 30, 165)\n",
    "    person2 = Person(\"Bob\", 25, 175)\n",
    "    person3 = Person(\"Charlie\", 35, 180)\n",
    "    person4 = Person(\"David\", 28, 160)\n",
    "\n",
    "    return person1, person2, person3, person4\n",
    "\n",
    "people = create_objects()\n",
    "\n",
    "for person in people:\n",
    "    print(person.introduce())\n"
   ]
  }
 ],
 "metadata": {
  "kernelspec": {
   "display_name": "Python 3",
   "language": "python",
   "name": "python3"
  },
  "language_info": {
   "codemirror_mode": {
    "name": "ipython",
    "version": 3
   },
   "file_extension": ".py",
   "mimetype": "text/x-python",
   "name": "python",
   "nbconvert_exporter": "python",
   "pygments_lexer": "ipython3",
   "version": "3.11.5"
  },
  "orig_nbformat": 4
 },
 "nbformat": 4,
 "nbformat_minor": 2
}
