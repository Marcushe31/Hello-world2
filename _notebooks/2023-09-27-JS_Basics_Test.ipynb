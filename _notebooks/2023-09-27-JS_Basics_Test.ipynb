{
 "cells": [
  {
   "cell_type": "markdown",
   "metadata": {},
   "source": [
    "---\n",
    "toc: true\n",
    "comments: true\n",
    "layout: post\n",
    "title: JS Basics Test\n",
    "courses: { compsci: {week: 6} }\n",
    "type: hacks\n",
    "---"
   ]
  },
  {
   "cell_type": "markdown",
   "metadata": {},
   "source": [
    "## How to use JS in your WebPage:"
   ]
  },
  {
   "cell_type": "markdown",
   "metadata": {},
   "source": [
    "Whenever you want to use JavaScript into your WebPage, you must first insert JavaScript code inbetween the two script codes, example below:"
   ]
  },
  {
   "cell_type": "markdown",
   "metadata": {},
   "source": [
    "<scrip> </script>"
   ]
  },
  {
   "cell_type": "markdown",
   "metadata": {},
   "source": [
    "<script> </script>"
   ]
  },
  {
   "cell_type": "markdown",
   "metadata": {},
   "source": [
    "# What is JavaScript used for?"
   ]
  },
  {
   "cell_type": "markdown",
   "metadata": {},
   "source": [
    "JavaScript is mainly used to enhance the interactivity and functionality of webpages. JavaScript and HTML have different uses, and when utilized properly they can complement your webpage. HTML is used to create the content of the Webpage which includes words, images, lists,  and basic structure of a webpage. "
   ]
  },
  {
   "cell_type": "markdown",
   "metadata": {},
   "source": [
    "# Variables in JavaScript"
   ]
  },
  {
   "cell_type": "markdown",
   "metadata": {},
   "source": [
    "Variables are basic code and commands in JavaScript that have different functionalities. Some basic variables are listed below:"
   ]
  },
  {
   "cell_type": "markdown",
   "metadata": {},
   "source": [
    "<li> Var: used to define/state variables. These include numbers, words, true/false statements, and other functions. example below."
   ]
  },
  {
   "cell_type": "code",
   "execution_count": 3,
   "metadata": {
    "vscode": {
     "languageId": "javascript"
    }
   },
   "outputs": [
    {
     "name": "stdout",
     "output_type": "stream",
     "text": [
      "Hello, Marcus!\n"
     ]
    }
   ],
   "source": [
    "def greet(name):\n",
    "    message = \"Hello, \" + name + \"!\"\n",
    "    return message\n",
    "\n",
    "result = greet(\"Marcus\")\n",
    "print(result)  "
   ]
  },
  {
   "cell_type": "markdown",
   "metadata": {},
   "source": [
    "As you can see from the code, we defined the variable of greet, which represents the mess = hello + name + !. The return statement is returning the message variable. After that, we defined the variable of result as the greet function, plus the name (\"Marcus\") which will go into the message function. Finally, we will print the (result) and it will give us our code = Hello, Marcus!"
   ]
  },
  {
   "cell_type": "markdown",
   "metadata": {},
   "source": [
    "## Console.log"
   ]
  },
  {
   "cell_type": "markdown",
   "metadata": {},
   "source": [
    "The console.log function is a built in JavaScript used for outputting information to the web browser's console. It is primarily used for debugging and logging purposes during the development of web applications. Console log is used to display values, variables, and messages to the console to help understand how their code is executing and to find and fix issues or errors. Below is an example of its use."
   ]
  },
  {
   "cell_type": "markdown",
   "metadata": {},
   "source": [
    "<script>\n",
    "      console.log(\"hello\");\n",
    "    </script>"
   ]
  },
  {
   "cell_type": "markdown",
   "metadata": {},
   "source": [
    "## HTML Code"
   ]
  },
  {
   "cell_type": "markdown",
   "metadata": {},
   "source": [
    "Below is an example of the table code in HTML that I added to add my webpage."
   ]
  },
  {
   "cell_type": "markdown",
   "metadata": {},
   "source": [
    "<table>\n",
    "<tr>\n",
    "<th>Class</th>\n",
    "<th>Period</th>\n",
    "</tr>\n",
    "<tr>\n",
    "<td> Ethnic Literature</td>\n",
    "<td>Period 1</td>\n",
    "</tr>\n",
    "<tr>\n",
    "<td>Physics</td>\n",
    "<td>Period 2</td>\n",
    "</tr>\n",
    "<tr>\n",
    "<td>Ap Calculus</td>\n",
    "<td>Period 3</td>\n",
    "</tr>\n",
    "<tr>\n",
    "<td>Ap Computer Science Principles</td>\n",
    "<td>Period 4</td>\n",
    "</tr>\n",
    "<tr>\n",
    "<td>Advanced Football PE</td>\n",
    "<td>Period 5</td>\n",
    "</tr>\n",
    "</table>"
   ]
  },
  {
   "cell_type": "markdown",
   "metadata": {},
   "source": [
    "# Object"
   ]
  },
  {
   "cell_type": "code",
   "execution_count": 1,
   "metadata": {},
   "outputs": [
    {
     "name": "stdout",
     "output_type": "stream",
     "text": [
      "Object's name: Marcus\n"
     ]
    }
   ],
   "source": [
    "class Person:\n",
    "    def __init__(self, name):\n",
    "        self.name = name\n",
    "\n",
    "\n",
    "marcus = Person(\"Marcus\")\n",
    "\n",
    "\n",
    "print(\"Object's name:\", marcus.name)\n"
   ]
  },
  {
   "cell_type": "markdown",
   "metadata": {},
   "source": [
    "Above is the code for an object, and how it creates the object named \"Marcus\", and accesses the name attribute of the Marcus object."
   ]
  }
 ],
 "metadata": {
  "kernelspec": {
   "display_name": "Python 3",
   "language": "python",
   "name": "python3"
  },
  "language_info": {
   "codemirror_mode": {
    "name": "ipython",
    "version": 3
   },
   "file_extension": ".py",
   "mimetype": "text/x-python",
   "name": "python",
   "nbconvert_exporter": "python",
   "pygments_lexer": "ipython3",
   "version": "3.11.5"
  },
  "orig_nbformat": 4
 },
 "nbformat": 4,
 "nbformat_minor": 2
}
