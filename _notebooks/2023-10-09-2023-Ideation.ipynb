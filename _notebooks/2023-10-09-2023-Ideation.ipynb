{
 "cells": [
  {
   "cell_type": "markdown",
   "metadata": {},
   "source": [
    "# Frontend, Backend, Deployment, and Ideation: Passion Project Plan"
   ]
  },
  {
   "cell_type": "markdown",
   "metadata": {},
   "source": [
    "<h3> Group Members: \n",
    "<li> Marcus\n",
    "<li> Kayden\n",
    "<li> Hao\n",
    "<li> Ameer"
   ]
  },
  {
   "cell_type": "markdown",
   "metadata": {},
   "source": [
    "# What is Front-end and Back-end?"
   ]
  },
  {
   "cell_type": "markdown",
   "metadata": {},
   "source": [
    "Frontend and backend work together in a software application to provide a complete user experience, with the frontend handling the presentation and user interaction, while the backend manages data processing and server-side logic. Collaboration between frontend and backend developers is crucial for building effective web applications."
   ]
  },
  {
   "cell_type": "markdown",
   "metadata": {},
   "source": [
    "# Our Passion Project"
   ]
  },
  {
   "cell_type": "markdown",
   "metadata": {},
   "source": [
    "For our passion project, we have decided to create a game using the different elements and knowledge of the tech talks by the other students in order to create something that we will be able to play and for others to play aswell. We were planning on basing our game to be about American Footbal. Below are some reference images of the project we plan to create. "
   ]
  },
  {
   "cell_type": "markdown",
   "metadata": {},
   "source": [
    "\n",
    "<img src=\"https://th.bing.com/th/id/OIP.LkPVXW-ZYrRWPS6KXbw89gHaD5?pid=ImgDet&rs=1\" alt=\"Retro Bowl\">"
   ]
  },
  {
   "cell_type": "markdown",
   "metadata": {},
   "source": [
    "<img src=\"https://levvvel.com/wp-content/uploads/retro-bowl-unblocked-games.jpg\" alt=\"retro bowl\">"
   ]
  },
  {
   "cell_type": "markdown",
   "metadata": {},
   "source": [
    "# Plan for the Project:"
   ]
  },
  {
   "cell_type": "markdown",
   "metadata": {},
   "source": [
    "Below is a list of elements that we plan to use to create the game:\n",
    "<li>Sprites: Define and manage game sprites, which are 2D images or animations representing game objects.\n",
    "<li>Animation: Implement animation systems to control sprite animations, including keyframes, frames per second (FPS), and transitions.\n",
    "<li> Input Handling: Develop input handling mechanisms for user interactions, such as keyboard, mouse, or touch controls.\n",
    "<li> Game State Management: Create a system to manage different game states, such as menus, gameplay, and cutscenes.\n",
    "<li> Game Logic: Write the core game logic, including rules, scoring, and win/lose conditions.\n",
    "<li> Sound and Music: access audio libraries or downloads to add sound effects and background music to the game.\n",
    "<li> Variables: (coding) element from tech talks.\n",
    "There will be more elements to add including the coding elements with the tech talks that we will be going through this week and the following.\n"
   ]
  },
  {
   "cell_type": "markdown",
   "metadata": {},
   "source": [
    "# Scrum\n"
   ]
  },
  {
   "cell_type": "markdown",
   "metadata": {},
   "source": [
    "In order to be on task with this project, we will assign Marcus as the scrum master, who will be overviewing the progress of the passion project, as well as contributing to it. The point of a scrum master is so that the team will stay on task and the project will be completed effectively and efficiently by its due date. "
   ]
  },
  {
   "cell_type": "markdown",
   "metadata": {},
   "source": [
    "# Where will this code be?"
   ]
  },
  {
   "cell_type": "markdown",
   "metadata": {},
   "source": [
    "In order for all group members to be able to contribute to the project, we wil be using GitHub pages and creating a shared repository that all members of the group will be able to work from. As of now, we have created this shared repository, but we just need to figure out how to push/pull code from the repository. "
   ]
  },
  {
   "cell_type": "markdown",
   "metadata": {},
   "source": [
    "Another place that we will place code is in the AWS Repo, aswell as the one on Flask. While we haven't started on these repo's yet, we will figure them out and get it working. "
   ]
  }
 ],
 "metadata": {
  "language_info": {
   "name": "python"
  },
  "orig_nbformat": 4
 },
 "nbformat": 4,
 "nbformat_minor": 2
}
