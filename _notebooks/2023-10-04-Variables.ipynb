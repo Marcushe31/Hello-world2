{
 "cells": [
  {
   "cell_type": "markdown",
   "metadata": {},
   "source": [
    "Variables are a unit of value that represents a number or a symbol. Below is an example of a variable using the graduation year."
   ]
  },
  {
   "cell_type": "code",
   "execution_count": 1,
   "metadata": {},
   "outputs": [
    {
     "name": "stdout",
     "output_type": "stream",
     "text": [
      "2025\n"
     ]
    }
   ],
   "source": [
    "graduationyear= 2025\n",
    "print(graduationyear)"
   ]
  },
  {
   "cell_type": "markdown",
   "metadata": {},
   "source": [
    "# Data Types"
   ]
  },
  {
   "cell_type": "markdown",
   "metadata": {},
   "source": [
    "<li> integer: a mathematical number </li>\n",
    "<li> boolean: a yes/no or true/false statement </li>\n",
    "<li> text (or string): for any text-based variable including phone numbers </li>"
   ]
  },
  {
   "cell_type": "markdown",
   "metadata": {},
   "source": [
    "Below are examples of each in the order"
   ]
  },
  {
   "cell_type": "code",
   "execution_count": 2,
   "metadata": {},
   "outputs": [
    {
     "name": "stdout",
     "output_type": "stream",
     "text": [
      "9 is an integer\n",
      "Falseis a boolean\n",
      "Hernandez is a string\n"
     ]
    }
   ],
   "source": [
    "highscore = 9\n",
    "Isfullmoon = False\n",
    "lastname = \"Hernandez\"\n",
    "print (str(highscore) + \" is an integer\")\n",
    "print (str(Isfullmoon) + \"is a boolean\")\n",
    "print (lastname + \" is a string\")"
   ]
  },
  {
   "cell_type": "markdown",
   "metadata": {},
   "source": [
    "# Changing Values"
   ]
  },
  {
   "cell_type": "code",
   "execution_count": 3,
   "metadata": {},
   "outputs": [],
   "source": [
    "num1 = 30\n",
    "num2 = 15\n",
    "num3 = 25\n",
    "num2 = num3 \n",
    "num3 = num1\n",
    "num1 = num2\n"
   ]
  },
  {
   "cell_type": "code",
   "execution_count": 5,
   "metadata": {},
   "outputs": [
    {
     "name": "stdout",
     "output_type": "stream",
     "text": [
      "2\n",
      "3\n",
      "2\n"
     ]
    }
   ],
   "source": [
    "word1 = 1\n",
    "word2 = 2\n",
    "word3 = 3\n",
    "word1=word2\n",
    "word2=word3\n",
    "word3=word1\n",
    "print (str(word1))\n",
    "print (str(word2))\n",
    "print (str(word3))\n"
   ]
  },
  {
   "cell_type": "markdown",
   "metadata": {},
   "source": [
    "# Data Abstraction"
   ]
  },
  {
   "cell_type": "markdown",
   "metadata": {},
   "source": [
    "## strings\n",
    "<li> ordered sequence of characters\n",
    "<li> may contain letters, numbers, and all omther special characters\n",
    "<li> Ex: words, phrases, sentences, ID numbers</li>\n",
    "example below:"
   ]
  },
  {
   "cell_type": "code",
   "execution_count": 8,
   "metadata": {},
   "outputs": [
    {
     "name": "stdout",
     "output_type": "stream",
     "text": [
      "Marcus\n",
      "Kayden\n",
      "Ameer\n",
      "Hao\n"
     ]
    }
   ],
   "source": [
    "groupName = [\"Marcus\",\"Kayden\",\"Ameer\",\"Hao\"]\n",
    "print(groupName[0])\n",
    "print(groupName[1])\n",
    "print(groupName[2])\n",
    "print(groupName[3])\n"
   ]
  },
  {
   "cell_type": "code",
   "execution_count": 11,
   "metadata": {},
   "outputs": [
    {
     "name": "stdout",
     "output_type": "stream",
     "text": [
      "calculus\n"
     ]
    }
   ],
   "source": [
    "Classes = [\"ethnic lit\",\"physics\",\"calculus\",\"computer science\",\"football class\"]\n",
    "print(Classes[2])"
   ]
  },
  {
   "cell_type": "code",
   "execution_count": 13,
   "metadata": {},
   "outputs": [
    {
     "ename": "SyntaxError",
     "evalue": "invalid syntax (3136748980.py, line 6)",
     "output_type": "error",
     "traceback": [
      "\u001b[1;36m  Cell \u001b[1;32mIn[13], line 6\u001b[1;36m\u001b[0m\n\u001b[1;33m    scores3 = scores 1\u001b[0m\n\u001b[1;37m                     ^\u001b[0m\n\u001b[1;31mSyntaxError\u001b[0m\u001b[1;31m:\u001b[0m invalid syntax\n"
     ]
    }
   ],
   "source": [
    "scores1 = [10,11,12,13,14]\n",
    "scores2 = [1,2,3,4]\n",
    "scores3 = [3,3,30,3]\n",
    "scores1 = scores2\n",
    "scores2 = scores3\n",
    "scores3 = scores 1\n",
    "print(scores[1])"
   ]
  },
  {
   "cell_type": "markdown",
   "metadata": {},
   "source": [
    "# Homework"
   ]
  },
  {
   "cell_type": "code",
   "execution_count": 3,
   "metadata": {},
   "outputs": [
    {
     "name": "stdout",
     "output_type": "stream",
     "text": [
      "2025\n",
      "Fortnite\n",
      "('2027', '2026', '2025', '2024')\n",
      "True\n"
     ]
    }
   ],
   "source": [
    "# Variable 1: Integer\n",
    "gradYear = 2025 \n",
    "print(gradYear)\n",
    "\n",
    "# Variable 2 : String\n",
    "Videogame = \"Fortnite\"\n",
    "print(Videogame) \n",
    "\n",
    "# Variable 3: List\n",
    "DelNorteCurrentGraduationYears = (\"2027\",\"2026\",\"2025\",\"2024\")\n",
    "print(DelNorteCurrentGraduationYears)\n",
    "\n",
    "# Variable 4: Booleon\n",
    "FortniteisCool = True\n",
    "print(FortniteisCool)\n"
   ]
  }
 ],
 "metadata": {
  "kernelspec": {
   "display_name": "Python 3",
   "language": "python",
   "name": "python3"
  },
  "language_info": {
   "codemirror_mode": {
    "name": "ipython",
    "version": 3
   },
   "file_extension": ".py",
   "mimetype": "text/x-python",
   "name": "python",
   "nbconvert_exporter": "python",
   "pygments_lexer": "ipython3",
   "version": "3.11.5"
  },
  "orig_nbformat": 4
 },
 "nbformat": 4,
 "nbformat_minor": 2
}
