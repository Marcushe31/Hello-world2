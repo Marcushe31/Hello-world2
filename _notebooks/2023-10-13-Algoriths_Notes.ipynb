{
 "cells": [
  {
   "cell_type": "markdown",
   "metadata": {},
   "source": [
    "# Algorithm Notes"
   ]
  },
  {
   "cell_type": "code",
   "execution_count": 1,
   "metadata": {},
   "outputs": [
    {
     "name": "stdout",
     "output_type": "stream",
     "text": [
      "4.5\n"
     ]
    }
   ],
   "source": [
    "num1 = 5\n",
    "num2 = 2\n",
    "num3 = 1\n",
    "result = (num1)-(num3)/(num2)\n",
    "print(result)"
   ]
  },
  {
   "cell_type": "code",
   "execution_count": null,
   "metadata": {},
   "outputs": [],
   "source": [
    "41=24\n",
    "61=720"
   ]
  },
  {
   "cell_type": "markdown",
   "metadata": {},
   "source": [
    "Poopcorn hack answer: Concateration"
   ]
  },
  {
   "cell_type": "markdown",
   "metadata": {},
   "source": [
    "# Homework"
   ]
  },
  {
   "cell_type": "markdown",
   "metadata": {},
   "source": [
    "concationate your first and last name\n",
    "<br></br>\n",
    "select/write a random sentence of your choice. \n",
    "<br></br>\n",
    "create your own order of operations problems in a code cell. but use modulus/MOD. no decimal\n",
    "\n",
    "\n"
   ]
  },
  {
   "cell_type": "code",
   "execution_count": 2,
   "metadata": {},
   "outputs": [
    {
     "name": "stdout",
     "output_type": "stream",
     "text": [
      "Marcus Hernandez\n"
     ]
    }
   ],
   "source": [
    "first_name = \"Marcus\"\n",
    "last_name = \"Hernandez\"\n",
    "\n",
    "full_name = first_name + \" \" + last_name\n",
    "print(full_name)\n"
   ]
  },
  {
   "cell_type": "code",
   "execution_count": 4,
   "metadata": {},
   "outputs": [
    {
     "name": "stdout",
     "output_type": "stream",
     "text": [
      "Hernandez. Marcus my is Hello, name\n"
     ]
    }
   ],
   "source": [
    "import random\n",
    "words = [\"Hello,\", \"my\", \"name\", \"is\", \"Marcus\", \"Hernandez.\"]\n",
    "random.shuffle(words)\n",
    "random_sentence = \" \".join(words)\n",
    "print(random_sentence)"
   ]
  },
  {
   "cell_type": "code",
   "execution_count": 5,
   "metadata": {},
   "outputs": [
    {
     "name": "stdout",
     "output_type": "stream",
     "text": [
      "Result: 0\n"
     ]
    }
   ],
   "source": [
    "result = (10 + 5) * 4 % 6\n",
    "\n",
    "print(\"Result:\", result)"
   ]
  }
 ],
 "metadata": {
  "kernelspec": {
   "display_name": "Python 3",
   "language": "python",
   "name": "python3"
  },
  "language_info": {
   "codemirror_mode": {
    "name": "ipython",
    "version": 3
   },
   "file_extension": ".py",
   "mimetype": "text/x-python",
   "name": "python",
   "nbconvert_exporter": "python",
   "pygments_lexer": "ipython3",
   "version": "3.11.5"
  },
  "orig_nbformat": 4
 },
 "nbformat": 4,
 "nbformat_minor": 2
}
