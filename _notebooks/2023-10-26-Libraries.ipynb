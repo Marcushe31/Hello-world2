{
 "cells": [
  {
   "cell_type": "markdown",
   "metadata": {},
   "source": [
    "# Libraries Team Talk\n"
   ]
  },
  {
   "cell_type": "markdown",
   "metadata": {},
   "source": [
    "Popcorn Hack #1"
   ]
  },
  {
   "cell_type": "code",
   "execution_count": 1,
   "metadata": {},
   "outputs": [
    {
     "name": "stdout",
     "output_type": "stream",
     "text": [
      "Current time is: 13:24:29\n"
     ]
    }
   ],
   "source": [
    "import time\n",
    "current_time = time.strftime(\"%H:%M:%S\")\n",
    "print(\"Current time is:\", current_time)"
   ]
  },
  {
   "cell_type": "code",
   "execution_count": 2,
   "metadata": {},
   "outputs": [
    {
     "name": "stdout",
     "output_type": "stream",
     "text": [
      "Random number from the list: 3\n"
     ]
    }
   ],
   "source": [
    "import random\n",
    "number_list = [1, 2, 3, 4, 5]\n",
    "random_number = random.choice(number_list)\n",
    "print(\"Random number from the list:\", random_number)\n"
   ]
  },
  {
   "cell_type": "markdown",
   "metadata": {},
   "source": [
    "# Homework Hack"
   ]
  },
  {
   "cell_type": "code",
   "execution_count": null,
   "metadata": {},
   "outputs": [],
   "source": [
    "import pandas as pd\n",
    "import numpy as np\n",
    "\n",
    "data = {\n",
    "    'Category': ['A', 'A', 'A', 'B', 'B', 'C', 'C', 'C', 'C', 'C'],\n",
    "    'Value': [10, 15, 20, 5, 8, 12, 18, 14, 10, 7]\n",
    "}\n",
    "df = pd.DataFrame(data)\n",
    "result = df.groupby('Category')['Value'].mean()\n",
    "print(result)\n"
   ]
  },
  {
   "cell_type": "code",
   "execution_count": null,
   "metadata": {},
   "outputs": [],
   "source": [
    "import requests\n",
    "from PIL import Image\n",
    "import io\n",
    "import pandas as pd\n",
    "image_url = \"https://example.com/image.jpg\"\n",
    "response = requests.get(image_url)\n",
    "image_data = response.content\n",
    "image = Image.open(io.BytesIO(image_data))\n",
    "\n"
   ]
  }
 ],
 "metadata": {
  "kernelspec": {
   "display_name": "Python 3",
   "language": "python",
   "name": "python3"
  },
  "language_info": {
   "codemirror_mode": {
    "name": "ipython",
    "version": 3
   },
   "file_extension": ".py",
   "mimetype": "text/x-python",
   "name": "python",
   "nbconvert_exporter": "python",
   "pygments_lexer": "ipython3",
   "version": "3.11.5"
  },
  "orig_nbformat": 4
 },
 "nbformat": 4,
 "nbformat_minor": 2
}
